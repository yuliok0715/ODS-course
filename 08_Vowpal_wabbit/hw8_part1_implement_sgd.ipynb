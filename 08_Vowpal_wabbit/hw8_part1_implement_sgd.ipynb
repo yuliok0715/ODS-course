{
 "cells": [
  {
   "cell_type": "markdown",
   "metadata": {},
   "source": [
    "<center>\n",
    "<img src=\"../../img/ods_stickers.jpg\">\n",
    "## Открытый курс по машинному обучению\n",
    "</center>\n",
    "<center>Автор материала: программист-исследователь Mail.ru Group, старший преподаватель <br>Факультета Компьютерных Наук ВШЭ Юрий Кашницкий"
   ]
  },
  {
   "cell_type": "markdown",
   "metadata": {},
   "source": [
    "# <center> Домашнее задание № 8. Часть 1\n",
    "## <center> Реализация алгоритмов онлайн-обучения"
   ]
  },
  {
   "cell_type": "markdown",
   "metadata": {},
   "source": [
    "В первой части задания вам предлагается реализовать два алгоритма – регрессор и классификатор, обучаемые стохастическим градиентным спуском (Stochastic Gradient Descent, SGD). [Веб-форма](https://goo.gl/forms/z8zENbMiaEAeB7nG3) для ответов."
   ]
  },
  {
   "cell_type": "markdown",
   "metadata": {},
   "source": [
    "## План 1 части домашнего задания\n",
    "    1.1. Линейная регрессия и SGD\n",
    "    1.2. Логистическая регрессия и SGD\n",
    "    1.3. Логистическая регрессия и SGDClassifier в задаче классификации отзывов к фильмам"
   ]
  },
  {
   "cell_type": "markdown",
   "metadata": {},
   "source": [
    "В [статье](https://habrahabr.ru/company/ods/blog/326418/) было описано, как таким образом обучать регрессор, т.е. минимизировать квадратичную функцию потерь. Реализуем этот алгоритм."
   ]
  },
  {
   "cell_type": "markdown",
   "metadata": {},
   "source": [
    "Вначале проверим версии библиотек с помощью расширения [watermark](https://github.com/rasbt/watermark). Заодно и Vowpal Wabbit, который понадобится во 2 части задания – версия должна быть последняя на момент написания, 8.3.2."
   ]
  },
  {
   "cell_type": "code",
   "execution_count": 3,
   "metadata": {},
   "outputs": [],
   "source": [
    "#pip install watermark\n",
    "%load_ext watermark"
   ]
  },
  {
   "cell_type": "code",
   "execution_count": 4,
   "metadata": {},
   "outputs": [
    {
     "name": "stdout",
     "output_type": "stream",
     "text": [
      "CPython 3.6.3\n",
      "IPython 6.2.1\n",
      "\n",
      "numpy 1.13.1\n",
      "scipy 0.19.1\n",
      "pandas 0.20.3\n",
      "matplotlib 2.0.2\n",
      "sklearn 0.19.0\n",
      "\n",
      "compiler   : GCC 7.2.0\n",
      "system     : Linux\n",
      "release    : 4.13.0-32-generic\n",
      "machine    : x86_64\n",
      "processor  : x86_64\n",
      "CPU cores  : 4\n",
      "interpreter: 64bit\n"
     ]
    }
   ],
   "source": [
    "%watermark -v -m -p numpy,scipy,pandas,matplotlib,sklearn "
   ]
  },
  {
   "cell_type": "code",
   "execution_count": 9,
   "metadata": {},
   "outputs": [
    {
     "name": "stdout",
     "output_type": "stream",
     "text": [
      "8.5.0\r\n"
     ]
    }
   ],
   "source": [
    "!vw --version"
   ]
  },
  {
   "cell_type": "markdown",
   "metadata": {},
   "source": [
    "##  1.1. Линейная регрессия и SGD"
   ]
  },
  {
   "cell_type": "code",
   "execution_count": 215,
   "metadata": {},
   "outputs": [],
   "source": [
    "import numpy as np\n",
    "import pandas as pd\n",
    "from tqdm import tqdm\n",
    "from sklearn.base import BaseEstimator\n",
    "from sklearn.metrics import mean_squared_error, log_loss, roc_auc_score\n",
    "from sklearn.model_selection import train_test_split\n",
    "%matplotlib inline\n",
    "from matplotlib import pyplot as plt\n",
    "import seaborn as sns\n",
    "from sklearn.preprocessing import StandardScaler\n",
    "from sklearn.linear_model import LinearRegression, LogisticRegression"
   ]
  },
  {
   "cell_type": "markdown",
   "metadata": {},
   "source": [
    "Реализуйте класс `SGDRegressor`. Спецификация:\n",
    "- класс наследуется от `sklearn.base.BaseEstimator`\n",
    "- конструктор принимает параметры `eta` – шаг градиентного спуска (по умолчанию $10^{-3}$) и `n_iter` – число проходов по выборке (по умолчанию 10)\n",
    "- также в конструкторе должны создаваться списки `mse_` и `weights_` для отслеживания значений среднеквадратичной ошибки и вектора весов по итерациям градиентного спуска\n",
    "- Класс имеет методы `fit` и `predict`\n",
    "- Метод `fit` принимает матрицу `X` и вектор `y` (объекты `numpy.array`), добавляет к матрице `X` слева столбец из единиц, инициализирует вектор весов `w` **нулями** и в цикле с числом итераций `n_iter` обновляет веса (см. [статью](https://habrahabr.ru/company/ods/blog/326418/)), а также записывает получившиеся на данной итерации значения среднеквадратичной ошибки (именно MSE, SE слишком большими будут) и вектор весов `w` в предназначенные для этого списки. \n",
    "- В конце метод `fit` создает переменную `w_`, в которой хранится тот вектор весов, при котором ошибка минимальна\n",
    "- Метод `fit` должен возвращать текущий экземпляр класса `SGDRegressor`, т.е. `self`\n",
    "- Метод `predict` принимает матрицу `X`, добавляет к ней слева столбец из единиц и возвращает вектор прогнозов модели, используя созданный методом `fit` вектор весов `w_`."
   ]
  },
  {
   "cell_type": "code",
   "execution_count": 190,
   "metadata": {},
   "outputs": [],
   "source": [
    "class SGDRegressor(BaseEstimator):\n",
    "    ''' ВАШ КОД ЗДЕСЬ '''\n",
    "    def __init__(self, eta=1e-3, n_iter=10):\n",
    "        self.eta = eta\n",
    "        self.n_iter = n_iter\n",
    "        \n",
    "        self.mse_ = []\n",
    "        self.weights_ = []\n",
    "        \n",
    "    def fit(self, X, y):\n",
    "        X = np.hstack((np.ones((X.shape[0], 1)), X))\n",
    "        w = np.zeros(X.shape[1])\n",
    "        for i in range(self.n_iter):\n",
    "            x_i = X[i]\n",
    "            y_i = y[i]\n",
    "            w += self.eta *  np.dot(x_i.T, y_i - np.dot(x_i, w))\n",
    "            self.weights_.append(w)\n",
    "            self.mse_.append(mean_squared_error(y, np.dot (X, w)))\n",
    "            \n",
    "        self.w_ = self.weights_[self.mse_.index(min(self.mse_))]\n",
    "        return self\n",
    "    \n",
    "    def predict(self, X):\n",
    "        X = np.hstack((np.ones((X.shape[0], 1)), X))\n",
    "        return np.dot(X, self.w_)            "
   ]
  },
  {
   "cell_type": "markdown",
   "metadata": {},
   "source": [
    "Проверим работу алгоритма на данных по росту и весу. Будем прогнозировать рост (в дюймах) по весу (в фунтах)."
   ]
  },
  {
   "cell_type": "code",
   "execution_count": 191,
   "metadata": {},
   "outputs": [],
   "source": [
    "data_demo = pd.read_csv('../data/weights_heights.csv')"
   ]
  },
  {
   "cell_type": "code",
   "execution_count": 195,
   "metadata": {},
   "outputs": [
    {
     "data": {
      "image/png": "[encoded data removed]",
      "text/plain": [
       "<matplotlib.figure.Figure at 0x7ff865b64438>"
      ]
     },
     "metadata": {},
     "output_type": "display_data"
    }
   ],
   "source": [
    "plt.scatter(data_demo['Weight'], data_demo['Height']);\n",
    "plt.xlabel('Вес (фунты)')\n",
    "plt.ylabel('Рост (дюймы)');"
   ]
  },
  {
   "cell_type": "code",
   "execution_count": 193,
   "metadata": {},
   "outputs": [],
   "source": [
    "X, y = data_demo['Weight'].values, data_demo['Height'].values"
   ]
  },
  {
   "cell_type": "markdown",
   "metadata": {},
   "source": [
    "Выделим 70% под обучение, 30% – под проверку и масштабируем выборку."
   ]
  },
  {
   "cell_type": "code",
   "execution_count": 196,
   "metadata": {},
   "outputs": [],
   "source": [
    "X_train, X_valid, y_train, y_valid = train_test_split(X, y,\n",
    "                                                     test_size=0.3,\n",
    "                                                     random_state=17)"
   ]
  },
  {
   "cell_type": "code",
   "execution_count": 197,
   "metadata": {},
   "outputs": [],
   "source": [
    "scaler = StandardScaler()\n",
    "X_train_scaled = scaler.fit_transform(X_train.reshape([X_train.shape[0], 1]))\n",
    "X_valid_scaled = scaler.transform(X_valid.reshape([X_valid.shape[0], 1]))"
   ]
  },
  {
   "cell_type": "markdown",
   "metadata": {},
   "source": [
    "Обучите созданный вами `SGDRegressor` на выборке `(X_train_scaled, y_train)`. Параметры оставьте по умолчанию."
   ]
  },
  {
   "cell_type": "code",
   "execution_count": 198,
   "metadata": {},
   "outputs": [
    {
     "data": {
      "text/plain": [
       "SGDRegressor(eta=0.01, n_iter=900)"
      ]
     },
     "execution_count": 198,
     "metadata": {},
     "output_type": "execute_result"
    }
   ],
   "source": [
    "''' ВАШ КОД ЗДЕСЬ '''\n",
    "regressor = SGDRegressor(eta=0.01, n_iter=900)\n",
    "regressor.fit(X_train_scaled, y_train)"
   ]
  },
  {
   "cell_type": "markdown",
   "metadata": {},
   "source": [
    "Изобразите на графике процесс обучения – как среднеквадратичная ошибка зависит от номера итерации стохастического градиентного спуска."
   ]
  },
  {
   "cell_type": "code",
   "execution_count": 200,
   "metadata": {},
   "outputs": [
    {
     "data": {
      "text/plain": [
       "[<matplotlib.lines.Line2D at 0x7ff85fe4b550>]"
      ]
     },
     "execution_count": 200,
     "metadata": {},
     "output_type": "execute_result"
    },
    {
     "data": {
      "image/png": "[encoded data removed]",
      "text/plain": [
       "<matplotlib.figure.Figure at 0x7ff865b23160>"
      ]
     },
     "metadata": {},
     "output_type": "display_data"
    }
   ],
   "source": [
    "''' ВАШ КОД ЗДЕСЬ '''\n",
    "plt.rcParams['figure.figsize'] = 16, 10\n",
    "plt.plot(regressor.mse_)"
   ]
  },
  {
   "cell_type": "markdown",
   "metadata": {},
   "source": [
    "Выведите наименьшее значение среднеквадратичной ошибки и лучший вектор весов модели."
   ]
  },
  {
   "cell_type": "code",
   "execution_count": 201,
   "metadata": {},
   "outputs": [
    {
     "name": "stdout",
     "output_type": "stream",
     "text": [
      "Min MSE: 2.7154204109720395, best weights: [ 67.99988316   1.00026551]\n"
     ]
    }
   ],
   "source": [
    "''' ВАШ КОД ЗДЕСЬ '''\n",
    "print(f\"Min MSE: {min(regressor.mse_)}, best weights: {regressor.w_}\")"
   ]
  },
  {
   "cell_type": "markdown",
   "metadata": {},
   "source": [
    "Постройте график того, как менялись значения весов модели ($w_0$ и $w_1$) по мере обучения."
   ]
  },
  {
   "cell_type": "code",
   "execution_count": 202,
   "metadata": {},
   "outputs": [
    {
     "data": {
      "text/plain": [
       "[array([ 67.99988316,   1.00026551]),\n",
       " array([ 67.99988316,   1.00026551]),\n",
       " array([ 67.99988316,   1.00026551]),\n",
       " array([ 67.99988316,   1.00026551]),\n",
       " array([ 67.99988316,   1.00026551]),\n",
       " array([ 67.99988316,   1.00026551]),\n",
       " array([ 67.99988316,   1.00026551]),\n",
       " array([ 67.99988316,   1.00026551]),\n",
       " array([ 67.99988316,   1.00026551]),\n",
       " array([ 67.99988316,   1.00026551]),\n",
       " array([ 67.99988316,   1.00026551]),\n",
       " array([ 67.99988316,   1.00026551]),\n",
       " array([ 67.99988316,   1.00026551]),\n",
       " array([ 67.99988316,   1.00026551]),\n",
       " array([ 67.99988316,   1.00026551]),\n",
       " array([ 67.99988316,   1.00026551]),\n",
       " array([ 67.99988316,   1.00026551]),\n",
       " array([ 67.99988316,   1.00026551]),\n",
       " array([ 67.99988316,   1.00026551]),\n",
       " array([ 67.99988316,   1.00026551]),\n",
       " array([ 67.99988316,   1.00026551]),\n",
       " array([ 67.99988316,   1.00026551]),\n",
       " array([ 67.99988316,   1.00026551]),\n",
       " array([ 67.99988316,   1.00026551]),\n",
       " array([ 67.99988316,   1.00026551]),\n",
       " array([ 67.99988316,   1.00026551]),\n",
       " array([ 67.99988316,   1.00026551]),\n",
       " array([ 67.99988316,   1.00026551]),\n",
       " array([ 67.99988316,   1.00026551]),\n",
       " array([ 67.99988316,   1.00026551]),\n",
       " array([ 67.99988316,   1.00026551]),\n",
       " array([ 67.99988316,   1.00026551]),\n",
       " array([ 67.99988316,   1.00026551]),\n",
       " array([ 67.99988316,   1.00026551]),\n",
       " array([ 67.99988316,   1.00026551]),\n",
       " array([ 67.99988316,   1.00026551]),\n",
       " array([ 67.99988316,   1.00026551]),\n",
       " array([ 67.99988316,   1.00026551]),\n",
       " array([ 67.99988316,   1.00026551]),\n",
       " array([ 67.99988316,   1.00026551]),\n",
       " array([ 67.99988316,   1.00026551]),\n",
       " array([ 67.99988316,   1.00026551]),\n",
       " array([ 67.99988316,   1.00026551]),\n",
       " array([ 67.99988316,   1.00026551]),\n",
       " array([ 67.99988316,   1.00026551]),\n",
       " array([ 67.99988316,   1.00026551]),\n",
       " array([ 67.99988316,   1.00026551]),\n",
       " array([ 67.99988316,   1.00026551]),\n",
       " array([ 67.99988316,   1.00026551]),\n",
       " array([ 67.99988316,   1.00026551]),\n",
       " array([ 67.99988316,   1.00026551]),\n",
       " array([ 67.99988316,   1.00026551]),\n",
       " array([ 67.99988316,   1.00026551]),\n",
       " array([ 67.99988316,   1.00026551]),\n",
       " array([ 67.99988316,   1.00026551]),\n",
       " array([ 67.99988316,   1.00026551]),\n",
       " array([ 67.99988316,   1.00026551]),\n",
       " array([ 67.99988316,   1.00026551]),\n",
       " array([ 67.99988316,   1.00026551]),\n",
       " array([ 67.99988316,   1.00026551]),\n",
       " array([ 67.99988316,   1.00026551]),\n",
       " array([ 67.99988316,   1.00026551]),\n",
       " array([ 67.99988316,   1.00026551]),\n",
       " array([ 67.99988316,   1.00026551]),\n",
       " array([ 67.99988316,   1.00026551]),\n",
       " array([ 67.99988316,   1.00026551]),\n",
       " array([ 67.99988316,   1.00026551]),\n",
       " array([ 67.99988316,   1.00026551]),\n",
       " array([ 67.99988316,   1.00026551]),\n",
       " array([ 67.99988316,   1.00026551]),\n",
       " array([ 67.99988316,   1.00026551]),\n",
       " array([ 67.99988316,   1.00026551]),\n",
       " array([ 67.99988316,   1.00026551]),\n",
       " array([ 67.99988316,   1.00026551]),\n",
       " array([ 67.99988316,   1.00026551]),\n",
       " array([ 67.99988316,   1.00026551]),\n",
       " array([ 67.99988316,   1.00026551]),\n",
       " array([ 67.99988316,   1.00026551]),\n",
       " array([ 67.99988316,   1.00026551]),\n",
       " array([ 67.99988316,   1.00026551]),\n",
       " array([ 67.99988316,   1.00026551]),\n",
       " array([ 67.99988316,   1.00026551]),\n",
       " array([ 67.99988316,   1.00026551]),\n",
       " array([ 67.99988316,   1.00026551]),\n",
       " array([ 67.99988316,   1.00026551]),\n",
       " array([ 67.99988316,   1.00026551]),\n",
       " array([ 67.99988316,   1.00026551]),\n",
       " array([ 67.99988316,   1.00026551]),\n",
       " array([ 67.99988316,   1.00026551]),\n",
       " array([ 67.99988316,   1.00026551]),\n",
       " array([ 67.99988316,   1.00026551]),\n",
       " array([ 67.99988316,   1.00026551]),\n",
       " array([ 67.99988316,   1.00026551]),\n",
       " array([ 67.99988316,   1.00026551]),\n",
       " array([ 67.99988316,   1.00026551]),\n",
       " array([ 67.99988316,   1.00026551]),\n",
       " array([ 67.99988316,   1.00026551]),\n",
       " array([ 67.99988316,   1.00026551]),\n",
       " array([ 67.99988316,   1.00026551]),\n",
       " array([ 67.99988316,   1.00026551]),\n",
       " array([ 67.99988316,   1.00026551]),\n",
       " array([ 67.99988316,   1.00026551]),\n",
       " array([ 67.99988316,   1.00026551]),\n",
       " array([ 67.99988316,   1.00026551]),\n",
       " array([ 67.99988316,   1.00026551]),\n",
       " array([ 67.99988316,   1.00026551]),\n",
       " array([ 67.99988316,   1.00026551]),\n",
       " array([ 67.99988316,   1.00026551]),\n",
       " array([ 67.99988316,   1.00026551]),\n",
       " array([ 67.99988316,   1.00026551]),\n",
       " array([ 67.99988316,   1.00026551]),\n",
       " array([ 67.99988316,   1.00026551]),\n",
       " array([ 67.99988316,   1.00026551]),\n",
       " array([ 67.99988316,   1.00026551]),\n",
       " array([ 67.99988316,   1.00026551]),\n",
       " array([ 67.99988316,   1.00026551]),\n",
       " array([ 67.99988316,   1.00026551]),\n",
       " array([ 67.99988316,   1.00026551]),\n",
       " array([ 67.99988316,   1.00026551]),\n",
       " array([ 67.99988316,   1.00026551]),\n",
       " array([ 67.99988316,   1.00026551]),\n",
       " array([ 67.99988316,   1.00026551]),\n",
       " array([ 67.99988316,   1.00026551]),\n",
       " array([ 67.99988316,   1.00026551]),\n",
       " array([ 67.99988316,   1.00026551]),\n",
       " array([ 67.99988316,   1.00026551]),\n",
       " array([ 67.99988316,   1.00026551]),\n",
       " array([ 67.99988316,   1.00026551]),\n",
       " array([ 67.99988316,   1.00026551]),\n",
       " array([ 67.99988316,   1.00026551]),\n",
       " array([ 67.99988316,   1.00026551]),\n",
       " array([ 67.99988316,   1.00026551]),\n",
       " array([ 67.99988316,   1.00026551]),\n",
       " array([ 67.99988316,   1.00026551]),\n",
       " array([ 67.99988316,   1.00026551]),\n",
       " array([ 67.99988316,   1.00026551]),\n",
       " array([ 67.99988316,   1.00026551]),\n",
       " array([ 67.99988316,   1.00026551]),\n",
       " array([ 67.99988316,   1.00026551]),\n",
       " array([ 67.99988316,   1.00026551]),\n",
       " array([ 67.99988316,   1.00026551]),\n",
       " array([ 67.99988316,   1.00026551]),\n",
       " array([ 67.99988316,   1.00026551]),\n",
       " array([ 67.99988316,   1.00026551]),\n",
       " array([ 67.99988316,   1.00026551]),\n",
       " array([ 67.99988316,   1.00026551]),\n",
       " array([ 67.99988316,   1.00026551]),\n",
       " array([ 67.99988316,   1.00026551]),\n",
       " array([ 67.99988316,   1.00026551]),\n",
       " array([ 67.99988316,   1.00026551]),\n",
       " array([ 67.99988316,   1.00026551]),\n",
       " array([ 67.99988316,   1.00026551]),\n",
       " array([ 67.99988316,   1.00026551]),\n",
       " array([ 67.99988316,   1.00026551]),\n",
       " array([ 67.99988316,   1.00026551]),\n",
       " array([ 67.99988316,   1.00026551]),\n",
       " array([ 67.99988316,   1.00026551]),\n",
       " array([ 67.99988316,   1.00026551]),\n",
       " array([ 67.99988316,   1.00026551]),\n",
       " array([ 67.99988316,   1.00026551]),\n",
       " array([ 67.99988316,   1.00026551]),\n",
       " array([ 67.99988316,   1.00026551]),\n",
       " array([ 67.99988316,   1.00026551]),\n",
       " array([ 67.99988316,   1.00026551]),\n",
       " array([ 67.99988316,   1.00026551]),\n",
       " array([ 67.99988316,   1.00026551]),\n",
       " array([ 67.99988316,   1.00026551]),\n",
       " array([ 67.99988316,   1.00026551]),\n",
       " array([ 67.99988316,   1.00026551]),\n",
       " array([ 67.99988316,   1.00026551]),\n",
       " array([ 67.99988316,   1.00026551]),\n",
       " array([ 67.99988316,   1.00026551]),\n",
       " array([ 67.99988316,   1.00026551]),\n",
       " array([ 67.99988316,   1.00026551]),\n",
       " array([ 67.99988316,   1.00026551]),\n",
       " array([ 67.99988316,   1.00026551]),\n",
       " array([ 67.99988316,   1.00026551]),\n",
       " array([ 67.99988316,   1.00026551]),\n",
       " array([ 67.99988316,   1.00026551]),\n",
       " array([ 67.99988316,   1.00026551]),\n",
       " array([ 67.99988316,   1.00026551]),\n",
       " array([ 67.99988316,   1.00026551]),\n",
       " array([ 67.99988316,   1.00026551]),\n",
       " array([ 67.99988316,   1.00026551]),\n",
       " array([ 67.99988316,   1.00026551]),\n",
       " array([ 67.99988316,   1.00026551]),\n",
       " array([ 67.99988316,   1.00026551]),\n",
       " array([ 67.99988316,   1.00026551]),\n",
       " array([ 67.99988316,   1.00026551]),\n",
       " array([ 67.99988316,   1.00026551]),\n",
       " array([ 67.99988316,   1.00026551]),\n",
       " array([ 67.99988316,   1.00026551]),\n",
       " array([ 67.99988316,   1.00026551]),\n",
       " array([ 67.99988316,   1.00026551]),\n",
       " array([ 67.99988316,   1.00026551]),\n",
       " array([ 67.99988316,   1.00026551]),\n",
       " array([ 67.99988316,   1.00026551]),\n",
       " array([ 67.99988316,   1.00026551]),\n",
       " array([ 67.99988316,   1.00026551]),\n",
       " array([ 67.99988316,   1.00026551]),\n",
       " array([ 67.99988316,   1.00026551]),\n",
       " array([ 67.99988316,   1.00026551]),\n",
       " array([ 67.99988316,   1.00026551]),\n",
       " array([ 67.99988316,   1.00026551]),\n",
       " array([ 67.99988316,   1.00026551]),\n",
       " array([ 67.99988316,   1.00026551]),\n",
       " array([ 67.99988316,   1.00026551]),\n",
       " array([ 67.99988316,   1.00026551]),\n",
       " array([ 67.99988316,   1.00026551]),\n",
       " array([ 67.99988316,   1.00026551]),\n",
       " array([ 67.99988316,   1.00026551]),\n",
       " array([ 67.99988316,   1.00026551]),\n",
       " array([ 67.99988316,   1.00026551]),\n",
       " array([ 67.99988316,   1.00026551]),\n",
       " array([ 67.99988316,   1.00026551]),\n",
       " array([ 67.99988316,   1.00026551]),\n",
       " array([ 67.99988316,   1.00026551]),\n",
       " array([ 67.99988316,   1.00026551]),\n",
       " array([ 67.99988316,   1.00026551]),\n",
       " array([ 67.99988316,   1.00026551]),\n",
       " array([ 67.99988316,   1.00026551]),\n",
       " array([ 67.99988316,   1.00026551]),\n",
       " array([ 67.99988316,   1.00026551]),\n",
       " array([ 67.99988316,   1.00026551]),\n",
       " array([ 67.99988316,   1.00026551]),\n",
       " array([ 67.99988316,   1.00026551]),\n",
       " array([ 67.99988316,   1.00026551]),\n",
       " array([ 67.99988316,   1.00026551]),\n",
       " array([ 67.99988316,   1.00026551]),\n",
       " array([ 67.99988316,   1.00026551]),\n",
       " array([ 67.99988316,   1.00026551]),\n",
       " array([ 67.99988316,   1.00026551]),\n",
       " array([ 67.99988316,   1.00026551]),\n",
       " array([ 67.99988316,   1.00026551]),\n",
       " array([ 67.99988316,   1.00026551]),\n",
       " array([ 67.99988316,   1.00026551]),\n",
       " array([ 67.99988316,   1.00026551]),\n",
       " array([ 67.99988316,   1.00026551]),\n",
       " array([ 67.99988316,   1.00026551]),\n",
       " array([ 67.99988316,   1.00026551]),\n",
       " array([ 67.99988316,   1.00026551]),\n",
       " array([ 67.99988316,   1.00026551]),\n",
       " array([ 67.99988316,   1.00026551]),\n",
       " array([ 67.99988316,   1.00026551]),\n",
       " array([ 67.99988316,   1.00026551]),\n",
       " array([ 67.99988316,   1.00026551]),\n",
       " array([ 67.99988316,   1.00026551]),\n",
       " array([ 67.99988316,   1.00026551]),\n",
       " array([ 67.99988316,   1.00026551]),\n",
       " array([ 67.99988316,   1.00026551]),\n",
       " array([ 67.99988316,   1.00026551]),\n",
       " array([ 67.99988316,   1.00026551]),\n",
       " array([ 67.99988316,   1.00026551]),\n",
       " array([ 67.99988316,   1.00026551]),\n",
       " array([ 67.99988316,   1.00026551]),\n",
       " array([ 67.99988316,   1.00026551]),\n",
       " array([ 67.99988316,   1.00026551]),\n",
       " array([ 67.99988316,   1.00026551]),\n",
       " array([ 67.99988316,   1.00026551]),\n",
       " array([ 67.99988316,   1.00026551]),\n",
       " array([ 67.99988316,   1.00026551]),\n",
       " array([ 67.99988316,   1.00026551]),\n",
       " array([ 67.99988316,   1.00026551]),\n",
       " array([ 67.99988316,   1.00026551]),\n",
       " array([ 67.99988316,   1.00026551]),\n",
       " array([ 67.99988316,   1.00026551]),\n",
       " array([ 67.99988316,   1.00026551]),\n",
       " array([ 67.99988316,   1.00026551]),\n",
       " array([ 67.99988316,   1.00026551]),\n",
       " array([ 67.99988316,   1.00026551]),\n",
       " array([ 67.99988316,   1.00026551]),\n",
       " array([ 67.99988316,   1.00026551]),\n",
       " array([ 67.99988316,   1.00026551]),\n",
       " array([ 67.99988316,   1.00026551]),\n",
       " array([ 67.99988316,   1.00026551]),\n",
       " array([ 67.99988316,   1.00026551]),\n",
       " array([ 67.99988316,   1.00026551]),\n",
       " array([ 67.99988316,   1.00026551]),\n",
       " array([ 67.99988316,   1.00026551]),\n",
       " array([ 67.99988316,   1.00026551]),\n",
       " array([ 67.99988316,   1.00026551]),\n",
       " array([ 67.99988316,   1.00026551]),\n",
       " array([ 67.99988316,   1.00026551]),\n",
       " array([ 67.99988316,   1.00026551]),\n",
       " array([ 67.99988316,   1.00026551]),\n",
       " array([ 67.99988316,   1.00026551]),\n",
       " array([ 67.99988316,   1.00026551]),\n",
       " array([ 67.99988316,   1.00026551]),\n",
       " array([ 67.99988316,   1.00026551]),\n",
       " array([ 67.99988316,   1.00026551]),\n",
       " array([ 67.99988316,   1.00026551]),\n",
       " array([ 67.99988316,   1.00026551]),\n",
       " array([ 67.99988316,   1.00026551]),\n",
       " array([ 67.99988316,   1.00026551]),\n",
       " array([ 67.99988316,   1.00026551]),\n",
       " array([ 67.99988316,   1.00026551]),\n",
       " array([ 67.99988316,   1.00026551]),\n",
       " array([ 67.99988316,   1.00026551]),\n",
       " array([ 67.99988316,   1.00026551]),\n",
       " array([ 67.99988316,   1.00026551]),\n",
       " array([ 67.99988316,   1.00026551]),\n",
       " array([ 67.99988316,   1.00026551]),\n",
       " array([ 67.99988316,   1.00026551]),\n",
       " array([ 67.99988316,   1.00026551]),\n",
       " array([ 67.99988316,   1.00026551]),\n",
       " array([ 67.99988316,   1.00026551]),\n",
       " array([ 67.99988316,   1.00026551]),\n",
       " array([ 67.99988316,   1.00026551]),\n",
       " array([ 67.99988316,   1.00026551]),\n",
       " array([ 67.99988316,   1.00026551]),\n",
       " array([ 67.99988316,   1.00026551]),\n",
       " array([ 67.99988316,   1.00026551]),\n",
       " array([ 67.99988316,   1.00026551]),\n",
       " array([ 67.99988316,   1.00026551]),\n",
       " array([ 67.99988316,   1.00026551]),\n",
       " array([ 67.99988316,   1.00026551]),\n",
       " array([ 67.99988316,   1.00026551]),\n",
       " array([ 67.99988316,   1.00026551]),\n",
       " array([ 67.99988316,   1.00026551]),\n",
       " array([ 67.99988316,   1.00026551]),\n",
       " array([ 67.99988316,   1.00026551]),\n",
       " array([ 67.99988316,   1.00026551]),\n",
       " array([ 67.99988316,   1.00026551]),\n",
       " array([ 67.99988316,   1.00026551]),\n",
       " array([ 67.99988316,   1.00026551]),\n",
       " array([ 67.99988316,   1.00026551]),\n",
       " array([ 67.99988316,   1.00026551]),\n",
       " array([ 67.99988316,   1.00026551]),\n",
       " array([ 67.99988316,   1.00026551]),\n",
       " array([ 67.99988316,   1.00026551]),\n",
       " array([ 67.99988316,   1.00026551]),\n",
       " array([ 67.99988316,   1.00026551]),\n",
       " array([ 67.99988316,   1.00026551]),\n",
       " array([ 67.99988316,   1.00026551]),\n",
       " array([ 67.99988316,   1.00026551]),\n",
       " array([ 67.99988316,   1.00026551]),\n",
       " array([ 67.99988316,   1.00026551]),\n",
       " array([ 67.99988316,   1.00026551]),\n",
       " array([ 67.99988316,   1.00026551]),\n",
       " array([ 67.99988316,   1.00026551]),\n",
       " array([ 67.99988316,   1.00026551]),\n",
       " array([ 67.99988316,   1.00026551]),\n",
       " array([ 67.99988316,   1.00026551]),\n",
       " array([ 67.99988316,   1.00026551]),\n",
       " array([ 67.99988316,   1.00026551]),\n",
       " array([ 67.99988316,   1.00026551]),\n",
       " array([ 67.99988316,   1.00026551]),\n",
       " array([ 67.99988316,   1.00026551]),\n",
       " array([ 67.99988316,   1.00026551]),\n",
       " array([ 67.99988316,   1.00026551]),\n",
       " array([ 67.99988316,   1.00026551]),\n",
       " array([ 67.99988316,   1.00026551]),\n",
       " array([ 67.99988316,   1.00026551]),\n",
       " array([ 67.99988316,   1.00026551]),\n",
       " array([ 67.99988316,   1.00026551]),\n",
       " array([ 67.99988316,   1.00026551]),\n",
       " array([ 67.99988316,   1.00026551]),\n",
       " array([ 67.99988316,   1.00026551]),\n",
       " array([ 67.99988316,   1.00026551]),\n",
       " array([ 67.99988316,   1.00026551]),\n",
       " array([ 67.99988316,   1.00026551]),\n",
       " array([ 67.99988316,   1.00026551]),\n",
       " array([ 67.99988316,   1.00026551]),\n",
       " array([ 67.99988316,   1.00026551]),\n",
       " array([ 67.99988316,   1.00026551]),\n",
       " array([ 67.99988316,   1.00026551]),\n",
       " array([ 67.99988316,   1.00026551]),\n",
       " array([ 67.99988316,   1.00026551]),\n",
       " array([ 67.99988316,   1.00026551]),\n",
       " array([ 67.99988316,   1.00026551]),\n",
       " array([ 67.99988316,   1.00026551]),\n",
       " array([ 67.99988316,   1.00026551]),\n",
       " array([ 67.99988316,   1.00026551]),\n",
       " array([ 67.99988316,   1.00026551]),\n",
       " array([ 67.99988316,   1.00026551]),\n",
       " array([ 67.99988316,   1.00026551]),\n",
       " array([ 67.99988316,   1.00026551]),\n",
       " array([ 67.99988316,   1.00026551]),\n",
       " array([ 67.99988316,   1.00026551]),\n",
       " array([ 67.99988316,   1.00026551]),\n",
       " array([ 67.99988316,   1.00026551]),\n",
       " array([ 67.99988316,   1.00026551]),\n",
       " array([ 67.99988316,   1.00026551]),\n",
       " array([ 67.99988316,   1.00026551]),\n",
       " array([ 67.99988316,   1.00026551]),\n",
       " array([ 67.99988316,   1.00026551]),\n",
       " array([ 67.99988316,   1.00026551]),\n",
       " array([ 67.99988316,   1.00026551]),\n",
       " array([ 67.99988316,   1.00026551]),\n",
       " array([ 67.99988316,   1.00026551]),\n",
       " array([ 67.99988316,   1.00026551]),\n",
       " array([ 67.99988316,   1.00026551]),\n",
       " array([ 67.99988316,   1.00026551]),\n",
       " array([ 67.99988316,   1.00026551]),\n",
       " array([ 67.99988316,   1.00026551]),\n",
       " array([ 67.99988316,   1.00026551]),\n",
       " array([ 67.99988316,   1.00026551]),\n",
       " array([ 67.99988316,   1.00026551]),\n",
       " array([ 67.99988316,   1.00026551]),\n",
       " array([ 67.99988316,   1.00026551]),\n",
       " array([ 67.99988316,   1.00026551]),\n",
       " array([ 67.99988316,   1.00026551]),\n",
       " array([ 67.99988316,   1.00026551]),\n",
       " array([ 67.99988316,   1.00026551]),\n",
       " array([ 67.99988316,   1.00026551]),\n",
       " array([ 67.99988316,   1.00026551]),\n",
       " array([ 67.99988316,   1.00026551]),\n",
       " array([ 67.99988316,   1.00026551]),\n",
       " array([ 67.99988316,   1.00026551]),\n",
       " array([ 67.99988316,   1.00026551]),\n",
       " array([ 67.99988316,   1.00026551]),\n",
       " array([ 67.99988316,   1.00026551]),\n",
       " array([ 67.99988316,   1.00026551]),\n",
       " array([ 67.99988316,   1.00026551]),\n",
       " array([ 67.99988316,   1.00026551]),\n",
       " array([ 67.99988316,   1.00026551]),\n",
       " array([ 67.99988316,   1.00026551]),\n",
       " array([ 67.99988316,   1.00026551]),\n",
       " array([ 67.99988316,   1.00026551]),\n",
       " array([ 67.99988316,   1.00026551]),\n",
       " array([ 67.99988316,   1.00026551]),\n",
       " array([ 67.99988316,   1.00026551]),\n",
       " array([ 67.99988316,   1.00026551]),\n",
       " array([ 67.99988316,   1.00026551]),\n",
       " array([ 67.99988316,   1.00026551]),\n",
       " array([ 67.99988316,   1.00026551]),\n",
       " array([ 67.99988316,   1.00026551]),\n",
       " array([ 67.99988316,   1.00026551]),\n",
       " array([ 67.99988316,   1.00026551]),\n",
       " array([ 67.99988316,   1.00026551]),\n",
       " array([ 67.99988316,   1.00026551]),\n",
       " array([ 67.99988316,   1.00026551]),\n",
       " array([ 67.99988316,   1.00026551]),\n",
       " array([ 67.99988316,   1.00026551]),\n",
       " array([ 67.99988316,   1.00026551]),\n",
       " array([ 67.99988316,   1.00026551]),\n",
       " array([ 67.99988316,   1.00026551]),\n",
       " array([ 67.99988316,   1.00026551]),\n",
       " array([ 67.99988316,   1.00026551]),\n",
       " array([ 67.99988316,   1.00026551]),\n",
       " array([ 67.99988316,   1.00026551]),\n",
       " array([ 67.99988316,   1.00026551]),\n",
       " array([ 67.99988316,   1.00026551]),\n",
       " array([ 67.99988316,   1.00026551]),\n",
       " array([ 67.99988316,   1.00026551]),\n",
       " array([ 67.99988316,   1.00026551]),\n",
       " array([ 67.99988316,   1.00026551]),\n",
       " array([ 67.99988316,   1.00026551]),\n",
       " array([ 67.99988316,   1.00026551]),\n",
       " array([ 67.99988316,   1.00026551]),\n",
       " array([ 67.99988316,   1.00026551]),\n",
       " array([ 67.99988316,   1.00026551]),\n",
       " array([ 67.99988316,   1.00026551]),\n",
       " array([ 67.99988316,   1.00026551]),\n",
       " array([ 67.99988316,   1.00026551]),\n",
       " array([ 67.99988316,   1.00026551]),\n",
       " array([ 67.99988316,   1.00026551]),\n",
       " array([ 67.99988316,   1.00026551]),\n",
       " array([ 67.99988316,   1.00026551]),\n",
       " array([ 67.99988316,   1.00026551]),\n",
       " array([ 67.99988316,   1.00026551]),\n",
       " array([ 67.99988316,   1.00026551]),\n",
       " array([ 67.99988316,   1.00026551]),\n",
       " array([ 67.99988316,   1.00026551]),\n",
       " array([ 67.99988316,   1.00026551]),\n",
       " array([ 67.99988316,   1.00026551]),\n",
       " array([ 67.99988316,   1.00026551]),\n",
       " array([ 67.99988316,   1.00026551]),\n",
       " array([ 67.99988316,   1.00026551]),\n",
       " array([ 67.99988316,   1.00026551]),\n",
       " array([ 67.99988316,   1.00026551]),\n",
       " array([ 67.99988316,   1.00026551]),\n",
       " array([ 67.99988316,   1.00026551]),\n",
       " array([ 67.99988316,   1.00026551]),\n",
       " array([ 67.99988316,   1.00026551]),\n",
       " array([ 67.99988316,   1.00026551]),\n",
       " array([ 67.99988316,   1.00026551]),\n",
       " array([ 67.99988316,   1.00026551]),\n",
       " array([ 67.99988316,   1.00026551]),\n",
       " array([ 67.99988316,   1.00026551]),\n",
       " array([ 67.99988316,   1.00026551]),\n",
       " array([ 67.99988316,   1.00026551]),\n",
       " array([ 67.99988316,   1.00026551]),\n",
       " array([ 67.99988316,   1.00026551]),\n",
       " array([ 67.99988316,   1.00026551]),\n",
       " array([ 67.99988316,   1.00026551]),\n",
       " array([ 67.99988316,   1.00026551]),\n",
       " array([ 67.99988316,   1.00026551]),\n",
       " array([ 67.99988316,   1.00026551]),\n",
       " array([ 67.99988316,   1.00026551]),\n",
       " array([ 67.99988316,   1.00026551]),\n",
       " array([ 67.99988316,   1.00026551]),\n",
       " array([ 67.99988316,   1.00026551]),\n",
       " array([ 67.99988316,   1.00026551]),\n",
       " array([ 67.99988316,   1.00026551]),\n",
       " array([ 67.99988316,   1.00026551]),\n",
       " array([ 67.99988316,   1.00026551]),\n",
       " array([ 67.99988316,   1.00026551]),\n",
       " array([ 67.99988316,   1.00026551]),\n",
       " array([ 67.99988316,   1.00026551]),\n",
       " array([ 67.99988316,   1.00026551]),\n",
       " array([ 67.99988316,   1.00026551]),\n",
       " array([ 67.99988316,   1.00026551]),\n",
       " array([ 67.99988316,   1.00026551]),\n",
       " array([ 67.99988316,   1.00026551]),\n",
       " array([ 67.99988316,   1.00026551]),\n",
       " array([ 67.99988316,   1.00026551]),\n",
       " array([ 67.99988316,   1.00026551]),\n",
       " array([ 67.99988316,   1.00026551]),\n",
       " array([ 67.99988316,   1.00026551]),\n",
       " array([ 67.99988316,   1.00026551]),\n",
       " array([ 67.99988316,   1.00026551]),\n",
       " array([ 67.99988316,   1.00026551]),\n",
       " array([ 67.99988316,   1.00026551]),\n",
       " array([ 67.99988316,   1.00026551]),\n",
       " array([ 67.99988316,   1.00026551]),\n",
       " array([ 67.99988316,   1.00026551]),\n",
       " array([ 67.99988316,   1.00026551]),\n",
       " array([ 67.99988316,   1.00026551]),\n",
       " array([ 67.99988316,   1.00026551]),\n",
       " array([ 67.99988316,   1.00026551]),\n",
       " array([ 67.99988316,   1.00026551]),\n",
       " array([ 67.99988316,   1.00026551]),\n",
       " array([ 67.99988316,   1.00026551]),\n",
       " array([ 67.99988316,   1.00026551]),\n",
       " array([ 67.99988316,   1.00026551]),\n",
       " array([ 67.99988316,   1.00026551]),\n",
       " array([ 67.99988316,   1.00026551]),\n",
       " array([ 67.99988316,   1.00026551]),\n",
       " array([ 67.99988316,   1.00026551]),\n",
       " array([ 67.99988316,   1.00026551]),\n",
       " array([ 67.99988316,   1.00026551]),\n",
       " array([ 67.99988316,   1.00026551]),\n",
       " array([ 67.99988316,   1.00026551]),\n",
       " array([ 67.99988316,   1.00026551]),\n",
       " array([ 67.99988316,   1.00026551]),\n",
       " array([ 67.99988316,   1.00026551]),\n",
       " array([ 67.99988316,   1.00026551]),\n",
       " array([ 67.99988316,   1.00026551]),\n",
       " array([ 67.99988316,   1.00026551]),\n",
       " array([ 67.99988316,   1.00026551]),\n",
       " array([ 67.99988316,   1.00026551]),\n",
       " array([ 67.99988316,   1.00026551]),\n",
       " array([ 67.99988316,   1.00026551]),\n",
       " array([ 67.99988316,   1.00026551]),\n",
       " array([ 67.99988316,   1.00026551]),\n",
       " array([ 67.99988316,   1.00026551]),\n",
       " array([ 67.99988316,   1.00026551]),\n",
       " array([ 67.99988316,   1.00026551]),\n",
       " array([ 67.99988316,   1.00026551]),\n",
       " array([ 67.99988316,   1.00026551]),\n",
       " array([ 67.99988316,   1.00026551]),\n",
       " array([ 67.99988316,   1.00026551]),\n",
       " array([ 67.99988316,   1.00026551]),\n",
       " array([ 67.99988316,   1.00026551]),\n",
       " array([ 67.99988316,   1.00026551]),\n",
       " array([ 67.99988316,   1.00026551]),\n",
       " array([ 67.99988316,   1.00026551]),\n",
       " array([ 67.99988316,   1.00026551]),\n",
       " array([ 67.99988316,   1.00026551]),\n",
       " array([ 67.99988316,   1.00026551]),\n",
       " array([ 67.99988316,   1.00026551]),\n",
       " array([ 67.99988316,   1.00026551]),\n",
       " array([ 67.99988316,   1.00026551]),\n",
       " array([ 67.99988316,   1.00026551]),\n",
       " array([ 67.99988316,   1.00026551]),\n",
       " array([ 67.99988316,   1.00026551]),\n",
       " array([ 67.99988316,   1.00026551]),\n",
       " array([ 67.99988316,   1.00026551]),\n",
       " array([ 67.99988316,   1.00026551]),\n",
       " array([ 67.99988316,   1.00026551]),\n",
       " array([ 67.99988316,   1.00026551]),\n",
       " array([ 67.99988316,   1.00026551]),\n",
       " array([ 67.99988316,   1.00026551]),\n",
       " array([ 67.99988316,   1.00026551]),\n",
       " array([ 67.99988316,   1.00026551]),\n",
       " array([ 67.99988316,   1.00026551]),\n",
       " array([ 67.99988316,   1.00026551]),\n",
       " array([ 67.99988316,   1.00026551]),\n",
       " array([ 67.99988316,   1.00026551]),\n",
       " array([ 67.99988316,   1.00026551]),\n",
       " array([ 67.99988316,   1.00026551]),\n",
       " array([ 67.99988316,   1.00026551]),\n",
       " array([ 67.99988316,   1.00026551]),\n",
       " array([ 67.99988316,   1.00026551]),\n",
       " array([ 67.99988316,   1.00026551]),\n",
       " array([ 67.99988316,   1.00026551]),\n",
       " array([ 67.99988316,   1.00026551]),\n",
       " array([ 67.99988316,   1.00026551]),\n",
       " array([ 67.99988316,   1.00026551]),\n",
       " array([ 67.99988316,   1.00026551]),\n",
       " array([ 67.99988316,   1.00026551]),\n",
       " array([ 67.99988316,   1.00026551]),\n",
       " array([ 67.99988316,   1.00026551]),\n",
       " array([ 67.99988316,   1.00026551]),\n",
       " array([ 67.99988316,   1.00026551]),\n",
       " array([ 67.99988316,   1.00026551]),\n",
       " array([ 67.99988316,   1.00026551]),\n",
       " array([ 67.99988316,   1.00026551]),\n",
       " array([ 67.99988316,   1.00026551]),\n",
       " array([ 67.99988316,   1.00026551]),\n",
       " array([ 67.99988316,   1.00026551]),\n",
       " array([ 67.99988316,   1.00026551]),\n",
       " array([ 67.99988316,   1.00026551]),\n",
       " array([ 67.99988316,   1.00026551]),\n",
       " array([ 67.99988316,   1.00026551]),\n",
       " array([ 67.99988316,   1.00026551]),\n",
       " array([ 67.99988316,   1.00026551]),\n",
       " array([ 67.99988316,   1.00026551]),\n",
       " array([ 67.99988316,   1.00026551]),\n",
       " array([ 67.99988316,   1.00026551]),\n",
       " array([ 67.99988316,   1.00026551]),\n",
       " array([ 67.99988316,   1.00026551]),\n",
       " array([ 67.99988316,   1.00026551]),\n",
       " array([ 67.99988316,   1.00026551]),\n",
       " array([ 67.99988316,   1.00026551]),\n",
       " array([ 67.99988316,   1.00026551]),\n",
       " array([ 67.99988316,   1.00026551]),\n",
       " array([ 67.99988316,   1.00026551]),\n",
       " array([ 67.99988316,   1.00026551]),\n",
       " array([ 67.99988316,   1.00026551]),\n",
       " array([ 67.99988316,   1.00026551]),\n",
       " array([ 67.99988316,   1.00026551]),\n",
       " array([ 67.99988316,   1.00026551]),\n",
       " array([ 67.99988316,   1.00026551]),\n",
       " array([ 67.99988316,   1.00026551]),\n",
       " array([ 67.99988316,   1.00026551]),\n",
       " array([ 67.99988316,   1.00026551]),\n",
       " array([ 67.99988316,   1.00026551]),\n",
       " array([ 67.99988316,   1.00026551]),\n",
       " array([ 67.99988316,   1.00026551]),\n",
       " array([ 67.99988316,   1.00026551]),\n",
       " array([ 67.99988316,   1.00026551]),\n",
       " array([ 67.99988316,   1.00026551]),\n",
       " array([ 67.99988316,   1.00026551]),\n",
       " array([ 67.99988316,   1.00026551]),\n",
       " array([ 67.99988316,   1.00026551]),\n",
       " array([ 67.99988316,   1.00026551]),\n",
       " array([ 67.99988316,   1.00026551]),\n",
       " array([ 67.99988316,   1.00026551]),\n",
       " array([ 67.99988316,   1.00026551]),\n",
       " array([ 67.99988316,   1.00026551]),\n",
       " array([ 67.99988316,   1.00026551]),\n",
       " array([ 67.99988316,   1.00026551]),\n",
       " array([ 67.99988316,   1.00026551]),\n",
       " array([ 67.99988316,   1.00026551]),\n",
       " array([ 67.99988316,   1.00026551]),\n",
       " array([ 67.99988316,   1.00026551]),\n",
       " array([ 67.99988316,   1.00026551]),\n",
       " array([ 67.99988316,   1.00026551]),\n",
       " array([ 67.99988316,   1.00026551]),\n",
       " array([ 67.99988316,   1.00026551]),\n",
       " array([ 67.99988316,   1.00026551]),\n",
       " array([ 67.99988316,   1.00026551]),\n",
       " array([ 67.99988316,   1.00026551]),\n",
       " array([ 67.99988316,   1.00026551]),\n",
       " array([ 67.99988316,   1.00026551]),\n",
       " array([ 67.99988316,   1.00026551]),\n",
       " array([ 67.99988316,   1.00026551]),\n",
       " array([ 67.99988316,   1.00026551]),\n",
       " array([ 67.99988316,   1.00026551]),\n",
       " array([ 67.99988316,   1.00026551]),\n",
       " array([ 67.99988316,   1.00026551]),\n",
       " array([ 67.99988316,   1.00026551]),\n",
       " array([ 67.99988316,   1.00026551]),\n",
       " array([ 67.99988316,   1.00026551]),\n",
       " array([ 67.99988316,   1.00026551]),\n",
       " array([ 67.99988316,   1.00026551]),\n",
       " array([ 67.99988316,   1.00026551]),\n",
       " array([ 67.99988316,   1.00026551]),\n",
       " array([ 67.99988316,   1.00026551]),\n",
       " array([ 67.99988316,   1.00026551]),\n",
       " array([ 67.99988316,   1.00026551]),\n",
       " array([ 67.99988316,   1.00026551]),\n",
       " array([ 67.99988316,   1.00026551]),\n",
       " array([ 67.99988316,   1.00026551]),\n",
       " array([ 67.99988316,   1.00026551]),\n",
       " array([ 67.99988316,   1.00026551]),\n",
       " array([ 67.99988316,   1.00026551]),\n",
       " array([ 67.99988316,   1.00026551]),\n",
       " array([ 67.99988316,   1.00026551]),\n",
       " array([ 67.99988316,   1.00026551]),\n",
       " array([ 67.99988316,   1.00026551]),\n",
       " array([ 67.99988316,   1.00026551]),\n",
       " array([ 67.99988316,   1.00026551]),\n",
       " array([ 67.99988316,   1.00026551]),\n",
       " array([ 67.99988316,   1.00026551]),\n",
       " array([ 67.99988316,   1.00026551]),\n",
       " array([ 67.99988316,   1.00026551]),\n",
       " array([ 67.99988316,   1.00026551]),\n",
       " array([ 67.99988316,   1.00026551]),\n",
       " array([ 67.99988316,   1.00026551]),\n",
       " array([ 67.99988316,   1.00026551]),\n",
       " array([ 67.99988316,   1.00026551]),\n",
       " array([ 67.99988316,   1.00026551]),\n",
       " array([ 67.99988316,   1.00026551]),\n",
       " array([ 67.99988316,   1.00026551]),\n",
       " array([ 67.99988316,   1.00026551]),\n",
       " array([ 67.99988316,   1.00026551]),\n",
       " array([ 67.99988316,   1.00026551]),\n",
       " array([ 67.99988316,   1.00026551]),\n",
       " array([ 67.99988316,   1.00026551]),\n",
       " array([ 67.99988316,   1.00026551]),\n",
       " array([ 67.99988316,   1.00026551]),\n",
       " array([ 67.99988316,   1.00026551]),\n",
       " array([ 67.99988316,   1.00026551]),\n",
       " array([ 67.99988316,   1.00026551]),\n",
       " array([ 67.99988316,   1.00026551]),\n",
       " array([ 67.99988316,   1.00026551]),\n",
       " array([ 67.99988316,   1.00026551]),\n",
       " array([ 67.99988316,   1.00026551]),\n",
       " array([ 67.99988316,   1.00026551]),\n",
       " array([ 67.99988316,   1.00026551]),\n",
       " array([ 67.99988316,   1.00026551]),\n",
       " array([ 67.99988316,   1.00026551]),\n",
       " array([ 67.99988316,   1.00026551]),\n",
       " array([ 67.99988316,   1.00026551]),\n",
       " array([ 67.99988316,   1.00026551]),\n",
       " array([ 67.99988316,   1.00026551]),\n",
       " array([ 67.99988316,   1.00026551]),\n",
       " array([ 67.99988316,   1.00026551]),\n",
       " array([ 67.99988316,   1.00026551]),\n",
       " array([ 67.99988316,   1.00026551]),\n",
       " array([ 67.99988316,   1.00026551]),\n",
       " array([ 67.99988316,   1.00026551]),\n",
       " array([ 67.99988316,   1.00026551]),\n",
       " array([ 67.99988316,   1.00026551]),\n",
       " array([ 67.99988316,   1.00026551]),\n",
       " array([ 67.99988316,   1.00026551]),\n",
       " array([ 67.99988316,   1.00026551]),\n",
       " array([ 67.99988316,   1.00026551]),\n",
       " array([ 67.99988316,   1.00026551]),\n",
       " array([ 67.99988316,   1.00026551]),\n",
       " array([ 67.99988316,   1.00026551]),\n",
       " array([ 67.99988316,   1.00026551]),\n",
       " array([ 67.99988316,   1.00026551]),\n",
       " array([ 67.99988316,   1.00026551]),\n",
       " array([ 67.99988316,   1.00026551]),\n",
       " array([ 67.99988316,   1.00026551]),\n",
       " array([ 67.99988316,   1.00026551]),\n",
       " array([ 67.99988316,   1.00026551]),\n",
       " array([ 67.99988316,   1.00026551]),\n",
       " array([ 67.99988316,   1.00026551]),\n",
       " array([ 67.99988316,   1.00026551]),\n",
       " array([ 67.99988316,   1.00026551]),\n",
       " array([ 67.99988316,   1.00026551]),\n",
       " array([ 67.99988316,   1.00026551]),\n",
       " array([ 67.99988316,   1.00026551]),\n",
       " array([ 67.99988316,   1.00026551]),\n",
       " array([ 67.99988316,   1.00026551]),\n",
       " array([ 67.99988316,   1.00026551]),\n",
       " array([ 67.99988316,   1.00026551]),\n",
       " array([ 67.99988316,   1.00026551]),\n",
       " array([ 67.99988316,   1.00026551]),\n",
       " array([ 67.99988316,   1.00026551]),\n",
       " array([ 67.99988316,   1.00026551]),\n",
       " array([ 67.99988316,   1.00026551]),\n",
       " array([ 67.99988316,   1.00026551]),\n",
       " array([ 67.99988316,   1.00026551]),\n",
       " array([ 67.99988316,   1.00026551]),\n",
       " array([ 67.99988316,   1.00026551]),\n",
       " array([ 67.99988316,   1.00026551]),\n",
       " array([ 67.99988316,   1.00026551]),\n",
       " array([ 67.99988316,   1.00026551]),\n",
       " array([ 67.99988316,   1.00026551]),\n",
       " array([ 67.99988316,   1.00026551]),\n",
       " array([ 67.99988316,   1.00026551]),\n",
       " array([ 67.99988316,   1.00026551]),\n",
       " array([ 67.99988316,   1.00026551]),\n",
       " array([ 67.99988316,   1.00026551]),\n",
       " array([ 67.99988316,   1.00026551]),\n",
       " array([ 67.99988316,   1.00026551]),\n",
       " array([ 67.99988316,   1.00026551]),\n",
       " array([ 67.99988316,   1.00026551]),\n",
       " array([ 67.99988316,   1.00026551]),\n",
       " array([ 67.99988316,   1.00026551]),\n",
       " array([ 67.99988316,   1.00026551]),\n",
       " array([ 67.99988316,   1.00026551]),\n",
       " array([ 67.99988316,   1.00026551]),\n",
       " array([ 67.99988316,   1.00026551]),\n",
       " array([ 67.99988316,   1.00026551]),\n",
       " array([ 67.99988316,   1.00026551]),\n",
       " array([ 67.99988316,   1.00026551]),\n",
       " array([ 67.99988316,   1.00026551]),\n",
       " array([ 67.99988316,   1.00026551]),\n",
       " array([ 67.99988316,   1.00026551]),\n",
       " array([ 67.99988316,   1.00026551]),\n",
       " array([ 67.99988316,   1.00026551]),\n",
       " array([ 67.99988316,   1.00026551]),\n",
       " array([ 67.99988316,   1.00026551]),\n",
       " array([ 67.99988316,   1.00026551]),\n",
       " array([ 67.99988316,   1.00026551]),\n",
       " array([ 67.99988316,   1.00026551]),\n",
       " array([ 67.99988316,   1.00026551]),\n",
       " array([ 67.99988316,   1.00026551]),\n",
       " array([ 67.99988316,   1.00026551]),\n",
       " array([ 67.99988316,   1.00026551]),\n",
       " array([ 67.99988316,   1.00026551]),\n",
       " array([ 67.99988316,   1.00026551]),\n",
       " array([ 67.99988316,   1.00026551]),\n",
       " array([ 67.99988316,   1.00026551]),\n",
       " array([ 67.99988316,   1.00026551]),\n",
       " array([ 67.99988316,   1.00026551]),\n",
       " array([ 67.99988316,   1.00026551]),\n",
       " array([ 67.99988316,   1.00026551]),\n",
       " array([ 67.99988316,   1.00026551]),\n",
       " array([ 67.99988316,   1.00026551]),\n",
       " array([ 67.99988316,   1.00026551]),\n",
       " array([ 67.99988316,   1.00026551]),\n",
       " array([ 67.99988316,   1.00026551]),\n",
       " array([ 67.99988316,   1.00026551]),\n",
       " array([ 67.99988316,   1.00026551]),\n",
       " array([ 67.99988316,   1.00026551]),\n",
       " array([ 67.99988316,   1.00026551]),\n",
       " array([ 67.99988316,   1.00026551]),\n",
       " array([ 67.99988316,   1.00026551]),\n",
       " array([ 67.99988316,   1.00026551]),\n",
       " array([ 67.99988316,   1.00026551]),\n",
       " array([ 67.99988316,   1.00026551]),\n",
       " array([ 67.99988316,   1.00026551]),\n",
       " array([ 67.99988316,   1.00026551]),\n",
       " array([ 67.99988316,   1.00026551]),\n",
       " array([ 67.99988316,   1.00026551]),\n",
       " array([ 67.99988316,   1.00026551]),\n",
       " array([ 67.99988316,   1.00026551]),\n",
       " array([ 67.99988316,   1.00026551]),\n",
       " array([ 67.99988316,   1.00026551]),\n",
       " array([ 67.99988316,   1.00026551]),\n",
       " array([ 67.99988316,   1.00026551]),\n",
       " array([ 67.99988316,   1.00026551]),\n",
       " array([ 67.99988316,   1.00026551]),\n",
       " array([ 67.99988316,   1.00026551]),\n",
       " array([ 67.99988316,   1.00026551]),\n",
       " array([ 67.99988316,   1.00026551]),\n",
       " array([ 67.99988316,   1.00026551]),\n",
       " array([ 67.99988316,   1.00026551]),\n",
       " array([ 67.99988316,   1.00026551]),\n",
       " array([ 67.99988316,   1.00026551]),\n",
       " array([ 67.99988316,   1.00026551]),\n",
       " array([ 67.99988316,   1.00026551]),\n",
       " array([ 67.99988316,   1.00026551]),\n",
       " array([ 67.99988316,   1.00026551]),\n",
       " array([ 67.99988316,   1.00026551]),\n",
       " array([ 67.99988316,   1.00026551]),\n",
       " array([ 67.99988316,   1.00026551]),\n",
       " array([ 67.99988316,   1.00026551]),\n",
       " array([ 67.99988316,   1.00026551]),\n",
       " array([ 67.99988316,   1.00026551]),\n",
       " array([ 67.99988316,   1.00026551]),\n",
       " array([ 67.99988316,   1.00026551]),\n",
       " array([ 67.99988316,   1.00026551]),\n",
       " array([ 67.99988316,   1.00026551]),\n",
       " array([ 67.99988316,   1.00026551]),\n",
       " array([ 67.99988316,   1.00026551]),\n",
       " array([ 67.99988316,   1.00026551]),\n",
       " array([ 67.99988316,   1.00026551]),\n",
       " array([ 67.99988316,   1.00026551]),\n",
       " array([ 67.99988316,   1.00026551]),\n",
       " array([ 67.99988316,   1.00026551]),\n",
       " array([ 67.99988316,   1.00026551]),\n",
       " array([ 67.99988316,   1.00026551]),\n",
       " array([ 67.99988316,   1.00026551]),\n",
       " array([ 67.99988316,   1.00026551]),\n",
       " array([ 67.99988316,   1.00026551]),\n",
       " array([ 67.99988316,   1.00026551]),\n",
       " array([ 67.99988316,   1.00026551]),\n",
       " array([ 67.99988316,   1.00026551]),\n",
       " array([ 67.99988316,   1.00026551]),\n",
       " array([ 67.99988316,   1.00026551]),\n",
       " array([ 67.99988316,   1.00026551]),\n",
       " array([ 67.99988316,   1.00026551]),\n",
       " array([ 67.99988316,   1.00026551]),\n",
       " array([ 67.99988316,   1.00026551]),\n",
       " array([ 67.99988316,   1.00026551]),\n",
       " array([ 67.99988316,   1.00026551]),\n",
       " array([ 67.99988316,   1.00026551]),\n",
       " array([ 67.99988316,   1.00026551]),\n",
       " array([ 67.99988316,   1.00026551]),\n",
       " array([ 67.99988316,   1.00026551]),\n",
       " array([ 67.99988316,   1.00026551]),\n",
       " array([ 67.99988316,   1.00026551]),\n",
       " array([ 67.99988316,   1.00026551]),\n",
       " array([ 67.99988316,   1.00026551]),\n",
       " array([ 67.99988316,   1.00026551]),\n",
       " array([ 67.99988316,   1.00026551]),\n",
       " array([ 67.99988316,   1.00026551]),\n",
       " array([ 67.99988316,   1.00026551]),\n",
       " array([ 67.99988316,   1.00026551]),\n",
       " array([ 67.99988316,   1.00026551]),\n",
       " array([ 67.99988316,   1.00026551]),\n",
       " array([ 67.99988316,   1.00026551]),\n",
       " array([ 67.99988316,   1.00026551]),\n",
       " array([ 67.99988316,   1.00026551]),\n",
       " array([ 67.99988316,   1.00026551]),\n",
       " array([ 67.99988316,   1.00026551]),\n",
       " array([ 67.99988316,   1.00026551]),\n",
       " array([ 67.99988316,   1.00026551]),\n",
       " array([ 67.99988316,   1.00026551]),\n",
       " array([ 67.99988316,   1.00026551]),\n",
       " array([ 67.99988316,   1.00026551])]"
      ]
     },
     "execution_count": 202,
     "metadata": {},
     "output_type": "execute_result"
    }
   ],
   "source": [
    "''' ВАШ КОД ЗДЕСЬ '''\n",
    "regressor.weights_"
   ]
  },
  {
   "cell_type": "markdown",
   "metadata": {},
   "source": [
    "Сделайте прогноз для отложенной выборки `(X_valid_scaled, y_valid)` и посмотрите на MSE."
   ]
  },
  {
   "cell_type": "code",
   "execution_count": 179,
   "metadata": {},
   "outputs": [
    {
     "data": {
      "text/plain": [
       "2.6720920081637169"
      ]
     },
     "execution_count": 179,
     "metadata": {},
     "output_type": "execute_result"
    }
   ],
   "source": [
    "''' ВАШ КОД ЗДЕСЬ '''\n",
    "y_pred = regressor.predict(X_valid_scaled)\n",
    "mean_squared_error(y_valid, y_pred)"
   ]
  },
  {
   "cell_type": "markdown",
   "metadata": {},
   "source": [
    "Теперь следайте то же самое, но с `LinearRegression` из `sklearn.linear_model`. Посчитайте MSE для отложенной выборки."
   ]
  },
  {
   "cell_type": "code",
   "execution_count": 180,
   "metadata": {},
   "outputs": [
    {
     "data": {
      "text/plain": [
       "2.6708307676676348"
      ]
     },
     "execution_count": 180,
     "metadata": {},
     "output_type": "execute_result"
    }
   ],
   "source": [
    "''' ВАШ КОД ЗДЕСЬ '''\n",
    "regr_sk = LinearRegression()\n",
    "regr_sk.fit(X_train_scaled, y_train)\n",
    "y_pred_sk = regr_sk.predict(X_valid_scaled)\n",
    "mean_squared_error(y_valid, y_pred_sk)"
   ]
  },
  {
   "cell_type": "markdown",
   "metadata": {
    "collapsed": true
   },
   "source": [
    "<font color='red'>Вопрос 1.</font> В каком знаке после разделителя отличаются MSE линейной регрессии и `SGDRegressor` для отложенной выборки?\n",
    " - 2\n",
    " - **3**\n",
    " - 4\n",
    " - 5"
   ]
  },
  {
   "cell_type": "markdown",
   "metadata": {},
   "source": [
    "## 1.2. Логистическая регрессия и SGD\n",
    "Теперь давайте разберемся, как при таком же стохастическом подходе обучать логистическую регрессию."
   ]
  },
  {
   "cell_type": "markdown",
   "metadata": {},
   "source": [
    "Задача классификации, $X$ – обучающая выборка размеров $\\ell \\times (d+1)$ (первый столбец – вектор из единиц), $y$ – вектор ответов, $y_i \\in \\{-1, 1\\}$.\n",
    "В [4 статье](https://habrahabr.ru/company/ods/blog/323890/) серии мы подробно разбирали, как логистическая регрессия с $L_2$-регуляризацией сводится к задаче минимизации:\n",
    "$$ C\\sum_{i=1}^\\ell \\log{(1 + e^{-y_iw^Tx_i})} + \\frac{1}{2}\\sum_{j=1}^d w_j^2 \\rightarrow min_w$$"
   ]
  },
  {
   "cell_type": "markdown",
   "metadata": {},
   "source": [
    "<font color='red'>Вопрос 2.</font> По какой формуле будут пересчитываться веса логистической регрессии при обучении стохастическим градиентным спуском?\n",
    " - $w_j^{(t+1)} = w_j^{(t)} + \\eta (Cy_i x_{ij} \\sigma(y_iw^Tx_i) +  \\delta_{j\\neq0} w_j)$\n",
    " - $w_j^{(t+1)} = w_j^{(t)} - \\eta (Cy_i x_{ij} \\sigma(-y_iw^Tx_i) +  \\delta_{j\\neq0}w_j)$\n",
    " - $w_j^{(t+1)} = w_j^{(t)} - \\eta (Cy_i x_{ij} \\sigma(y_iw^Tx_i) -  \\delta_{j\\neq0}w_j )$\n",
    " - **$w_j^{(t+1)} = w_j^{(t)} + \\eta (Cy_i x_{ij} \\sigma(-y_iw^Tx_i) -  \\delta_{j\\neq0}w_j)$ ** !!!\n",
    " \n",
    "Здесь \n",
    "- $i \\in {0,\\ldots, \\ell-1}, j \\in {0,\\ldots, d}$\n",
    "- C – коэффициент регуляризации\n",
    "- $x_{ij} $ – элемент матрицы X в строке $i$ и столбце $j$ (нумерация с 0), \n",
    "- $x_i$ – $i$-ая строка матрицы $X$ (нумерация с 0), \n",
    "- $w_j^{(t)}$ – значение $j$-ого элемента вектора весов $w$ на шаге $t$ стохастического градиентного спуска\n",
    "- $\\eta$ – небольшая константа, шаг градиентного спуска\n",
    "- $\\delta_{j\\neq0}$ – символ Кронекера, то есть 1, когда $j\\neq0$ и $0$ – в противном случае"
   ]
  },
  {
   "cell_type": "markdown",
   "metadata": {},
   "source": [
    "Реализуйте класс `SGDClassifier`. Спецификация:\n",
    "- класс наследуется от `sklearn.base.BaseEstimator`\n",
    "- конструктор принимает параметры `eta` – шаг градиентного спуска (по умолчанию $10^{-3}$), `n_iter` – число проходов по выборке (по умолчанию 10) и C – коэффициент регуляризации\n",
    "- также в конструкторе должны создаваться списки `loss_` и `weights_` для отслеживания значений логистических потерь и вектора весов по итерациям градиентного спуска\n",
    "- Класс имеет методы `fit`, `predict` и `predict_proba`\n",
    "- Метод `fit` принимает матрицу `X` и вектор `y` (объекты `numpy.array`, рассматриваем только случай бинарной классификации, и значения в векторе `y` могут быть -1 и 1), добавляет к матрице `X` слева столбец из единиц, инициализирует вектор весов `w` **нулями** и в цикле с числом итераций `n_iter` обновляет веса по выведенной вами формуле, а также записывает получившиеся на данной итерации значения log_loss и вектор весов `w` в предназначенные для этого списки. \n",
    "- В конце метод `fit` создает переменную `w_`, в которой хранится тот вектор весов, при котором ошибка минимальна\n",
    "- Метод `fit` должен возвращать текущий экземпляр класса `SGDClassifier`, т.е. `self`\n",
    "- Метод `predict_proba` принимает матрицу `X`, добавляет к ней слева столбец из единиц и возвращает матрицу прогнозов модели (такую же, какую возвращают методы `predict_proba` моделей `sklearn`), используя созданный методом `fit` вектор весов `w_`\n",
    "- Метод `predict` вызывает метод  `predict_proba` и возвращает вектор ответов: -1, если предсказанная вероятность класса 1 меньше 0.5 и 1 – в противном случае\n",
    "- И еще **важный момент**: во избежание вычислительных проблем из-за слишком больших или малых значений под экспонентной (overflow & underflow) используйте написанную функцию `sigma`"
   ]
  },
  {
   "cell_type": "code",
   "execution_count": 233,
   "metadata": {},
   "outputs": [],
   "source": [
    "def sigma(z):\n",
    "    z = z.flatten()\n",
    "    z[z > 100] = 100\n",
    "    z[z < -100] = -100\n",
    "    return 1. / (1 + np.exp(-z))\n",
    "\n",
    "\n",
    "def delta(j):\n",
    "    return int(bool(j))"
   ]
  },
  {
   "cell_type": "code",
   "execution_count": 273,
   "metadata": {},
   "outputs": [],
   "source": [
    "class SGDClassifier(BaseEstimator):\n",
    "    ''' ВАШ КОД ЗДЕСЬ '''\n",
    "    def __init__(self, C, eta=1e-3, n_iter=10):\n",
    "        self.eta = eta\n",
    "        self.n_iter = n_iter\n",
    "        self.C = C\n",
    "        \n",
    "        self.loss_ = []\n",
    "        self.weights_ = []\n",
    "        \n",
    "    def fit(self, X, y):\n",
    "        X = np.hstack((np.ones((X.shape[0], 1)), X))\n",
    "        w = np.zeros(X.shape[1])\n",
    "        for i in range(self.n_iter):\n",
    "            for j in range(X.shape[1]):\n",
    "                w[j] += self.eta *( self.C * y[i] * X[i][j] * sigma(-y[i] * w.T.dot(X[i])) + w[j] * delta(j))\n",
    "            self.weights_.append(w)\n",
    "            self.loss_.append(log_loss(y, X.dot(w)))\n",
    "            \n",
    "        self.w_ = self.weights_[self.loss_.index(min(self.loss_))]\n",
    "        return self\n",
    "    \n",
    "    \n",
    "    def predict_proba(self, X):\n",
    "        X = np.hstack((np.ones((X.shape[0], 1)), X))\n",
    "        return np.dot(X, self.w_)\n",
    "    \n",
    "    def predict(self, X):\n",
    "        y = self.predict_proba(X)\n",
    "        return [-1 if p<0.5 else 1 for p in y]"
   ]
  },
  {
   "cell_type": "markdown",
   "metadata": {},
   "source": [
    "Проверим `SGDClassifier` на данных UCI по раку молочной железы."
   ]
  },
  {
   "cell_type": "code",
   "execution_count": 237,
   "metadata": {},
   "outputs": [],
   "source": [
    "from sklearn.datasets import load_breast_cancer"
   ]
  },
  {
   "cell_type": "code",
   "execution_count": 238,
   "metadata": {},
   "outputs": [],
   "source": [
    "cancer = load_breast_cancer()\n",
    "# поменяем метки в y с 0 на -1\n",
    "X, y = cancer.data, [-1 if i == 0 else 1 for i in cancer.target]"
   ]
  },
  {
   "cell_type": "markdown",
   "metadata": {},
   "source": [
    "Выделим 70% под обучение, 30% – под проверку и масштабируем выборку."
   ]
  },
  {
   "cell_type": "code",
   "execution_count": 270,
   "metadata": {},
   "outputs": [
    {
     "data": {
      "text/plain": [
       "(171, 30)"
      ]
     },
     "execution_count": 270,
     "metadata": {},
     "output_type": "execute_result"
    }
   ],
   "source": [
    "X_train, X_valid, y_train, y_valid = train_test_split(X, y,\n",
    "                                                     test_size=0.3,\n",
    "                                                     random_state=17)\n"
   ]
  },
  {
   "cell_type": "code",
   "execution_count": 240,
   "metadata": {},
   "outputs": [],
   "source": [
    "scaler = StandardScaler()\n",
    "X_train_scaled = scaler.fit_transform(X_train)\n",
    "X_valid_scaled = scaler.transform(X_valid)"
   ]
  },
  {
   "cell_type": "markdown",
   "metadata": {},
   "source": [
    "Обучите на масштибированной выборке `SGDClassifier` с параметрами `C`=1, `eta`=$10^{-3}$ и `n_iter`=3."
   ]
  },
  {
   "cell_type": "code",
   "execution_count": 274,
   "metadata": {},
   "outputs": [],
   "source": [
    "''' ВАШ КОД ЗДЕСЬ '''\n",
    "clf = SGDClassifier(C=1,eta=1e-3, n_iter=3).fit(X_train_scaled, y_train)"
   ]
  },
  {
   "cell_type": "markdown",
   "metadata": {},
   "source": [
    "Постройте график изменения log_loss."
   ]
  },
  {
   "cell_type": "code",
   "execution_count": 275,
   "metadata": {},
   "outputs": [
    {
     "data": {
      "text/plain": [
       "[<matplotlib.lines.Line2D at 0x7ff85eeb2128>]"
      ]
     },
     "execution_count": 275,
     "metadata": {},
     "output_type": "execute_result"
    },
    {
     "data": {
      "image/png": "[encoded data removed]",
      "text/plain": [
       "<matplotlib.figure.Figure at 0x7ff85fe787b8>"
      ]
     },
     "metadata": {},
     "output_type": "display_data"
    }
   ],
   "source": [
    "''' ВАШ КОД ЗДЕСЬ '''\n",
    "plt.plot(clf.loss_)"
   ]
  },
  {
   "cell_type": "markdown",
   "metadata": {},
   "source": [
    "Теперь обучите `SGDClassifier` с параметром `C`=1000, число проходов по выборке увеличьте до 10."
   ]
  },
  {
   "cell_type": "code",
   "execution_count": 286,
   "metadata": {},
   "outputs": [
    {
     "data": {
      "text/plain": [
       "array([  7.43989607e-01,  -6.35658908e-01,  -3.11650668e-01,\n",
       "        -4.18130198e-01,  -3.70528646e-01,  -3.22561883e-01,\n",
       "        -4.15073775e-01,  -3.96923575e-01,  -3.90694169e-01,\n",
       "        -1.49973618e-01,  -9.75821101e-02,  -5.58040064e-01,\n",
       "         7.11843461e-03,  -2.92696924e-01,  -1.69017743e-01,\n",
       "        -1.89845500e-04,  -2.77043748e-01,  -1.85958904e-01,\n",
       "        -2.40143770e-01,  -2.02379046e-01,  -1.43365889e-01,\n",
       "        -1.28923002e-01,  -9.82184271e-02,  -1.26511870e-01,\n",
       "        -1.12039581e-01,  -9.57946718e-02,  -2.39082668e-01,\n",
       "        -2.06869473e-01,  -1.72144194e-01,  -1.86260491e-01,\n",
       "        -1.77310684e-01])"
      ]
     },
     "execution_count": 286,
     "metadata": {},
     "output_type": "execute_result"
    }
   ],
   "source": [
    "''' ВАШ КОД ЗДЕСЬ '''\n",
    "clf = SGDClassifier(C=1000,eta=1e-3, n_iter=10).fit(X_train_scaled, y_train)\n",
    "clf.w_"
   ]
  },
  {
   "cell_type": "code",
   "execution_count": 287,
   "metadata": {},
   "outputs": [
    {
     "data": {
      "text/plain": [
       "31"
      ]
     },
     "execution_count": 287,
     "metadata": {},
     "output_type": "execute_result"
    }
   ],
   "source": [
    "len(clf.w_)"
   ]
  },
  {
   "cell_type": "code",
   "execution_count": 288,
   "metadata": {},
   "outputs": [
    {
     "data": {
      "text/plain": [
       "30"
      ]
     },
     "execution_count": 288,
     "metadata": {},
     "output_type": "execute_result"
    }
   ],
   "source": [
    "len(X[0])"
   ]
  },
  {
   "cell_type": "code",
   "execution_count": 289,
   "metadata": {},
   "outputs": [
    {
     "data": {
      "text/plain": [
       "array(['mean radius', 'mean texture', 'mean perimeter', 'mean area',\n",
       "       'mean smoothness', 'mean compactness', 'mean concavity',\n",
       "       'mean concave points', 'mean symmetry', 'mean fractal dimension',\n",
       "       'radius error', 'texture error', 'perimeter error', 'area error',\n",
       "       'smoothness error', 'compactness error', 'concavity error',\n",
       "       'concave points error', 'symmetry error', 'fractal dimension error',\n",
       "       'worst radius', 'worst texture', 'worst perimeter', 'worst area',\n",
       "       'worst smoothness', 'worst compactness', 'worst concavity',\n",
       "       'worst concave points', 'worst symmetry', 'worst fractal dimension'],\n",
       "      dtype='<U23')"
      ]
     },
     "execution_count": 289,
     "metadata": {},
     "output_type": "execute_result"
    }
   ],
   "source": [
    "cancer.feature_names"
   ]
  },
  {
   "cell_type": "markdown",
   "metadata": {},
   "source": [
    "Посмотрите на веса модели, при которых ошибка на обучении была минимальна."
   ]
  },
  {
   "cell_type": "code",
   "execution_count": 290,
   "metadata": {},
   "outputs": [
    {
     "data": {
      "text/plain": [
       "'worst fractal dimension'"
      ]
     },
     "execution_count": 290,
     "metadata": {},
     "output_type": "execute_result"
    }
   ],
   "source": [
    "cancer.feature_names[list(clf.w_).index(max(clf.w_)) - 1]"
   ]
  },
  {
   "cell_type": "markdown",
   "metadata": {},
   "source": [
    "<font color='red'>Вопрос 3.</font> Какой признак сильнее остальных влияет на вероятность того, что опухоль доброкачественна, согласно обученной модели `SGDClassifier`? (будьте внимательны – проверьте длину вектора весов, полученного после обучения, сравните с числом признаков в исходной задаче)\n",
    " - worst compactness\n",
    " - worst smoothness\n",
    " - worst concavity\n",
    " - concave points error\n",
    " - concavity error\n",
    " - compactness error\n",
    " - **worst fractal dimension**"
   ]
  },
  {
   "cell_type": "markdown",
   "metadata": {},
   "source": [
    "Посчитайте log_loss и ROC AUC на отложенной выборке, проделайте все то же с `sklearn.linear_model.LogisticRegression` (параметры по умолчанию, только random_state=17) и сравните результаты."
   ]
  },
  {
   "cell_type": "code",
   "execution_count": 291,
   "metadata": {},
   "outputs": [
    {
     "name": "stdout",
     "output_type": "stream",
     "text": [
      "log_loss: 3.8376652016985617, roc_auc: 0.8953800298062592\n"
     ]
    }
   ],
   "source": [
    "''' ВАШ КОД ЗДЕСЬ '''\n",
    "y_log = clf.predict(X_valid_scaled)\n",
    "print(f\"log_loss: {log_loss(y_valid, y_log)}, roc_auc: {roc_auc_score(y_valid, y_log)}\")"
   ]
  },
  {
   "cell_type": "code",
   "execution_count": 292,
   "metadata": {},
   "outputs": [
    {
     "name": "stdout",
     "output_type": "stream",
     "text": [
      "log_loss: 0.8079432980664542, roc_auc: 0.9672131147540984\n"
     ]
    }
   ],
   "source": [
    "clf2 = LogisticRegression(random_state=17).fit(X_train_scaled,y_train)\n",
    "y_l = clf2.predict(X_valid_scaled)\n",
    "print(f\"log_loss: {log_loss(y_valid, y_l)}, roc_auc: {roc_auc_score(y_valid, y_l)}\")"
   ]
  },
  {
   "cell_type": "markdown",
   "metadata": {},
   "source": [
    "## 1.3. Логистическая регрессия и SGDClassifier в задаче классификации отзывов к фильмам"
   ]
  },
  {
   "cell_type": "markdown",
   "metadata": {},
   "source": [
    "Теперь посмотрим на логистическую регрессию и ее же версию, но обучаемую стохастическим градиентным спуском, в задаче классификации отзывов IMDB. С этой задачей мы знакомы по 4 и 8 темам курса. Данные можно скачать [отсюда](https://yadi.sk/d/Tg1Tflur333iLr).\n",
    "\n",
    "Импортируем файлы, и обучим на имеющихся данных `CountVectorizer`"
   ]
  },
  {
   "cell_type": "code",
   "execution_count": 221,
   "metadata": {},
   "outputs": [],
   "source": [
    "from sklearn.datasets import load_files\n",
    "from sklearn.feature_extraction.text import CountVectorizer\n",
    "from sklearn.linear_model import SGDClassifier"
   ]
  },
  {
   "cell_type": "code",
   "execution_count": 211,
   "metadata": {},
   "outputs": [],
   "source": [
    "# поменяйте путь к файлу\n",
    "reviews_train = load_files(\"../data/imdb_reviews/train\")\n",
    "text_train, y_train = reviews_train.data, reviews_train.target"
   ]
  },
  {
   "cell_type": "code",
   "execution_count": 212,
   "metadata": {},
   "outputs": [],
   "source": [
    "reviews_test = load_files(\"../data/imdb_reviews/test\")\n",
    "text_test, y_test = reviews_test.data, reviews_test.target"
   ]
  },
  {
   "cell_type": "markdown",
   "metadata": {},
   "source": [
    "Обучим на имеющихся данных `CountVectorizer`, считая биграммы, то есть перейдем к разреженному представлению данных, где каждому уникальному слову и паре подряд идущих слов в обучающей выборке соответсвует признак. Всего таких признаков получается более 1.5 млн."
   ]
  },
  {
   "cell_type": "code",
   "execution_count": 213,
   "metadata": {},
   "outputs": [
    {
     "name": "stdout",
     "output_type": "stream",
     "text": [
      "CPU times: user 25.2 s, sys: 361 ms, total: 25.5 s\n",
      "Wall time: 26.2 s\n"
     ]
    }
   ],
   "source": [
    "%%time\n",
    "cv = CountVectorizer(ngram_range=(1, 2))\n",
    "X_train = cv.fit_transform(text_train)\n",
    "X_test = cv.transform(text_test)"
   ]
  },
  {
   "cell_type": "code",
   "execution_count": 214,
   "metadata": {},
   "outputs": [
    {
     "data": {
      "text/plain": [
       "((25000, 1513832), (25000, 1513832))"
      ]
     },
     "execution_count": 214,
     "metadata": {},
     "output_type": "execute_result"
    }
   ],
   "source": [
    "X_train.shape, X_test.shape"
   ]
  },
  {
   "cell_type": "markdown",
   "metadata": {},
   "source": [
    "Обучите на выборке `(X_train, y_train)` логистическую регрессию с параметрами по умолчанию (только укажите `random_state`=17) и посчитайте ROC AUC на тестовой выборке. Замерьте время обучения модели. Данные можно не масштабировать, так как признаки – по сути, счетчики, и они уже все измеряются примерно в одном диапазоне."
   ]
  },
  {
   "cell_type": "code",
   "execution_count": 226,
   "metadata": {},
   "outputs": [
    {
     "name": "stdout",
     "output_type": "stream",
     "text": [
      "CPU times: user 1min 17s, sys: 887 ms, total: 1min 18s\n",
      "Wall time: 39.3 s\n"
     ]
    }
   ],
   "source": [
    "%%time\n",
    "''' ВАШ КОД ЗДЕСЬ '''\n",
    "regr = LogisticRegression(random_state=17).fit(X_train, y_train)\n",
    "y_pred_log_sk = regr.predict(X_test)"
   ]
  },
  {
   "cell_type": "code",
   "execution_count": 227,
   "metadata": {},
   "outputs": [
    {
     "data": {
      "text/plain": [
       "0.89639999999999997"
      ]
     },
     "execution_count": 227,
     "metadata": {},
     "output_type": "execute_result"
    }
   ],
   "source": [
    "roc_auc_score(y_test, y_pred_log_sk)"
   ]
  },
  {
   "cell_type": "markdown",
   "metadata": {},
   "source": [
    "Теперь перейдем к онлайн-алгоритму. Мы написали свой `SGDClassifier` и принцип его работы поняли, надо еще немного постараться, чтобы сделать его эффективным, например, сделать поддержку разреженных данных. Но мы теперь перейдем к `sklearn`-реализации SGD-алгоритма. Прочитайте документацию [SGDClassifier](http://scikit-learn.org/stable/modules/generated/sklearn.linear_model.SGDClassifier.html), сделайте выводы, чем `SGDClassifier` из `Sklearn` более продвинут, чем наша реализация SGD-классификатора. "
   ]
  },
  {
   "cell_type": "markdown",
   "metadata": {},
   "source": [
    "<font color='red'>Вопрос 4.</font> Чем `sklearn`-реализация стохастического классификатора более продвинута, чем `SGDClassifier`, который мы реализовали? Отметьте все подходящие варианты.\n",
    " - Изменяемый шаг градиентного спуска\n",
    " - **Реализован линейный SVM**\n",
    " - Реализована ранняя остановка во избежание переобучения\n",
    " - **Есть распараллеливание по процессорам**\n",
    " - **Можно обучать LASSO**\n",
    " - Поддерживается онлайн-обучение деревьев решений\n",
    " - **Поддерживается mini-batch подход (обновление весов по нескольким объектам сразу, а не по одному)**\n"
   ]
  },
  {
   "cell_type": "markdown",
   "metadata": {},
   "source": [
    "Проведите 100 итераций SGD-логрегрессии (опять `random_state`=17) на той же выборке. Опять замерьте время обучения модели и обратите внимание, насколько оно меньше, чем время обучения логистической регрессии."
   ]
  },
  {
   "cell_type": "code",
   "execution_count": 230,
   "metadata": {},
   "outputs": [
    {
     "name": "stderr",
     "output_type": "stream",
     "text": [
      "/home/yulia/.pyenv/versions/anaconda3-5.0.1/lib/python3.6/site-packages/sklearn/linear_model/stochastic_gradient.py:73: DeprecationWarning:\n",
      "\n",
      "n_iter parameter is deprecated in 0.19 and will be removed in 0.21. Use max_iter and tol instead.\n",
      "\n"
     ]
    },
    {
     "name": "stdout",
     "output_type": "stream",
     "text": [
      "CPU times: user 7.9 s, sys: 27.7 ms, total: 7.93 s\n",
      "Wall time: 7.7 s\n"
     ]
    }
   ],
   "source": [
    "%%time\n",
    "''' ВАШ КОД ЗДЕСЬ '''\n",
    "sgd_clas = SGDClassifier(random_state=17, n_iter=100, loss='log').fit(X_train, y_train)\n",
    "y_pred_log_sgd = sgd_regr.predict(X_test)"
   ]
  },
  {
   "cell_type": "code",
   "execution_count": 231,
   "metadata": {},
   "outputs": [
    {
     "data": {
      "text/plain": [
       "0.46187648000000003"
      ]
     },
     "execution_count": 231,
     "metadata": {},
     "output_type": "execute_result"
    }
   ],
   "source": [
    "roc_auc_score(y_test, y_pred_log_sgd)"
   ]
  },
  {
   "cell_type": "markdown",
   "metadata": {},
   "source": [
    "<font color='red'>Вопрос 5.</font> В каком знаке после разделителя отличаются ROC AUC на тестовой выборке логистической регрессии и SGD-классификатора `Sklearn` с логистической функцией потерь?\n",
    " - 2\n",
    " - 3\n",
    " - 4\n",
    " - 5"
   ]
  }
 ],
 "metadata": {
  "kernelspec": {
   "display_name": "Python 3",
   "language": "python",
   "name": "python3"
  },
  "language_info": {
   "codemirror_mode": {
    "name": "ipython",
    "version": 3
   },
   "file_extension": ".py",
   "mimetype": "text/x-python",
   "name": "python",
   "nbconvert_exporter": "python",
   "pygments_lexer": "ipython3",
   "version": "3.6.3"
  }
 },
 "nbformat": 4,
 "nbformat_minor": 2
}
